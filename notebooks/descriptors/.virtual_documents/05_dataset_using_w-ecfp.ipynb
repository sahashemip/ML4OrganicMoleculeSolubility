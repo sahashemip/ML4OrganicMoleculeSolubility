



import numpy as np
import pandas as pd
from pathlib import Path

path_to_scripts = '../../scripts'
sys.path.append(path_to_scripts)
from smiles_property_extractor import Fingerprint




#dataset after cleaning
db_name = '../../datasets/processed/cleaned_data_v1.csv'

#dataset wo outliers
#db_name = '../../datasets/processed/cleaned_data_v2.csv'

db = pd.read_csv(db_name , sep=',')




print('checking duplications based on number of SMILES ...')
#DB['Temperature']
db[db.duplicated(subset=['SMILES'])]




print('Generating a new database :')
db_ = db[['molindx', 'SMILES', 'Temperature', 'ExperimentalSolubilityInWater']]

db_ = db_.assign(logS=lambda x: (np.log(x['ExperimentalSolubilityInWater'])))

db_['logS'] = db_['logS'].round(5)

db_['Temperature'] = db_['Temperature'] / max(db_['Temperature'])

db_new = db_.drop("ExperimentalSolubilityInWater", axis='columns')
db_new




DATA_PATH = "../../datasets/processed/"
diameter = 6
nbits=1024
is_numbering_fragments=True

f = Fingerprint(db_, DATA_PATH, is_numbering_fragments)
if Path('%s/wecfp-fingerprints.csv' % DATA_PATH).exists():
    print('Reading features from file...')
    xbits = pd.read_csv('%s/wecfp-fingerprints.csv' % DATA_PATH)
else:
    print('Computing features from scratch... THIS FAILS!! ')
    f.generate_ecfp(nbits=nbits, diameter=diameter)      # 1024
    xbits = pd.DataFrame(f.fingerprints)
    



xbits[xbits.duplicated()]







db_org = db_.drop(columns=['SMILES', 'ExperimentalSolubilityInWater'], axis=1)
db_org




data = pd.concat([xbits, db_org], axis=1)
data




data.to_csv('../../datasets/processed/dataset-w-ECFPDescriptors.csv', index=False)

#dataset wo outliers
#data.to_csv('../../datasets/processed/dataset-w-ECFPDescriptors_v2.csv',  index=False)




