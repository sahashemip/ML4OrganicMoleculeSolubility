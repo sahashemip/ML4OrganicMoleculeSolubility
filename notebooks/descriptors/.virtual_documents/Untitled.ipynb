



import numpy as np
import pandas as pd




db_dft = pd.read_csv('../../datasets/processed/datasetDFTDescriptors.csv')
db_rdkit = pd.read_csv('../../datasets/processed/datasetRdkitDescriptors.csv')
db_jazzy = pd.read_csv('../../datasets/processed/datasetJazzyDescriptors.csv')
db_wecfp = pd.read_csv('../../datasets/processed/dataset-w-ECFPDescriptors.csv')




db_dft_important = db_dft[['MolecularVolume',
                           'SolvationEnergy',
                           'MolecularSurfaceArea',
                           'MolarMass',
                           'DipoleMoment',
                           'gap']]

db_rdkit_important = db_rdkit[['MolLogP',
                               'fr_benzene',
                               'PEOE_VSA6',
                               'NumAromaticCarbocycles',
                               'SMR_VSA6',
                               'MolMR']]

db_jazzy_important = db_jazzy[['rdf_alp',
                               'rdf_eeq',
                               'dga',
                               'sa',
                               'sdc',
                               'dgp']]

db_wecfp_important = db_wecfp[['356',
                               '849',
                               '561',
                               '659',
                               '726',
                               '366',
                               'molindx',
                               'logS']]




db_selected = pd.concat([db_dft_important,
                         db_rdkit_important,
                         db_jazzy_important,
                         db_wecfp_important], axis=1)
db_selected




db_selected.to_csv('../../datasets/processed/datasetOfMostImportantDescriptors.csv', index=False)




