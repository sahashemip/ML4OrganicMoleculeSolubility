



import numpy as np
import pandas as pd
from pathlib import Path

path_to_scripts = '../../datasets/processed'
sys.path.append(path_to_scripts)
from smiles_property_extractor import Fingerprint




