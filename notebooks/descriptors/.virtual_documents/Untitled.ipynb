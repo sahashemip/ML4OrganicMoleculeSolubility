



import numpy as np
import pandas as pd





##dataset after cleaning
db_name = '../../datasets/processed/cleaned_data_v1.csv'

##dataset wo outliers
#db_name = '../../datasets/processed/cleaned_data_v2.csv'

db = pd.read_csv(db_name)




print('Generating a new dataset of log solubility and DFT data:')

db_ = db[['molindx','MolarMass', 'SolvationEnergy', 'DipoleMoment', 'MolecularVolume', 'MolecularSurfaceArea', 'QXX', 'QYY', 'QZZ', 'HOMO', 'LUMO', 'gap', 'Temperature','ExperimentalSolubilityInWater']]
db_v2 = db_.assign(logS=lambda x: (np.log(x['ExperimentalSolubilityInWater'])))
db_v2['logS'] = db_v2['logS'].round(5)
db_new = db_v2.drop("ExperimentalSolubilityInWater", axis='columns')
db_new




db_new.to_csv('../../datasets/processed/datasetDFTDescriptors.csv',  index=False)

#dataset wo outliers
#db_new.to_csv('../../datasets/processed/datasetDFTDescriptors_v2.csv',  index=False)




