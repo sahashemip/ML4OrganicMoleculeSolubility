{
 "cells": [
  {
   "cell_type": "markdown",
   "id": "1b76b593-563c-4989-ba2e-8bfe55513905",
   "metadata": {},
   "source": [
    "## Dataset using Jazzy descriptors"
   ]
  },
  {
   "cell_type": "code",
   "execution_count": 1,
   "id": "009a6d78-926a-4323-98de-f26c28b5e402",
   "metadata": {},
   "outputs": [],
   "source": [
    "\n",
    "import gc  # Garbage collector\n",
    "import sys\n",
    "import logging\n",
    "import numpy as np\n",
    "import pandas as pd\n",
    "import concurrent.futures\n",
    "from tqdm import tqdm  # For progress bar\n",
    "\n",
    "sys.path.append('../../scripts/')\n",
    "from smiles_property_extractor import ChemicalInfoFromSmiles\n"
   ]
  },
  {
   "cell_type": "code",
   "execution_count": 2,
   "id": "058d4d17-4a68-4509-b54b-db15b5d1d692",
   "metadata": {},
   "outputs": [],
   "source": [
    "\n",
    "#dataset after cleaning\n",
    "db_name = '../../datasets/processed/cleaned_data_v1.csv'\n",
    "\n",
    "#dataset wo outliers\n",
    "#db_name = '../datasets/cleaned_data_v2.csv'\n",
    "\n",
    "db = pd.read_csv(db_name)\n"
   ]
  },
  {
   "cell_type": "code",
   "execution_count": 3,
   "id": "106093a0-f4df-4046-8804-6c9cc080df24",
   "metadata": {},
   "outputs": [
    {
     "name": "stdout",
     "output_type": "stream",
     "text": [
      "Generating a Jazzy dataset ...\n"
     ]
    }
   ],
   "source": [
    "\n",
    "print('Generating a Jazzy dataset ...')\n",
    "db_ = db[['molindx', 'SMILES', 'Temperature', 'ExperimentalSolubilityInWater']]\n",
    "\n",
    "db_ = db_.assign(logS=lambda x: (np.log(x['ExperimentalSolubilityInWater'])))\n",
    "\n",
    "db_['ExperimentalSolubilityInWater'] = db_['ExperimentalSolubilityInWater']\n",
    "db_['logS'] = db_['logS'].round(5)\n"
   ]
  },
  {
   "cell_type": "markdown",
   "id": "4cf8d8e0-a8d1-4959-a192-3dbe50fbd032",
   "metadata": {},
   "source": [
    "### Generate the database from jazzy 2D descriptors \"Set number of processors based on you system\""
   ]
  },
  {
   "cell_type": "code",
   "execution_count": null,
   "id": "ac16eb73-d085-48d9-95ef-b6f507950282",
   "metadata": {},
   "outputs": [
    {
     "name": "stdout",
     "output_type": "stream",
     "text": [
      "This will take some time. Please be patient...\n",
      "Check \"number_of_processors\" for your system.\n"
     ]
    },
    {
     "name": "stderr",
     "output_type": "stream",
     "text": [
      "  0%|                                                                                                                                   | 0/9 [00:00<?, ?it/s][16:49:55] UFFTYPER: Warning: hybridization set to SP3 for atom 8\n",
      "[16:49:56] UFFTYPER: Warning: hybridization set to SP3 for atom 8\n",
      "[16:49:56] UFFTYPER: Warning: hybridization set to SP3 for atom 8\n",
      "[16:49:56] UFFTYPER: Warning: hybridization set to SP3 for atom 8\n",
      "[16:49:56] UFFTYPER: Warning: hybridization set to SP3 for atom 8\n",
      "[16:49:56] UFFTYPER: Warning: hybridization set to SP3 for atom 8\n",
      "[16:49:57] UFFTYPER: Warning: hybridization set to SP3 for atom 8\n",
      "[16:49:57] UFFTYPER: Warning: hybridization set to SP3 for atom 8\n",
      "[16:49:57] UFFTYPER: Warning: hybridization set to SP3 for atom 8\n",
      "[16:49:57] UFFTYPER: Warning: hybridization set to SP3 for atom 8\n",
      "[16:49:57] UFFTYPER: Warning: hybridization set to SP3 for atom 8\n",
      " 89%|████████████████████████████████████████████████████████████████████████████████████████████████████████████▍             | 8/9 [29:19<01:43, 103.91s/it]"
     ]
    }
   ],
   "source": [
    "\n",
    "def compute_descriptors(smiles):\n",
    "    \"\"\"Compute descriptors for a given SMILES string.\"\"\"\n",
    "    jazzydescriptors_eeq = ChemicalInfoFromSmiles.get_yukawa_potential_from_jazzy(smiles, atomic_property='eeq')\n",
    "    jazzydescriptors_alp = ChemicalInfoFromSmiles.get_yukawa_potential_from_jazzy(smiles, atomic_property='alp')\n",
    "    jazzydescriptors = ChemicalInfoFromSmiles.get_molecular_vector_from_smiles_jazzy(smiles)\n",
    "    return jazzydescriptors_eeq, jazzydescriptors_alp, jazzydescriptors\n",
    "\n",
    "def process_data_chunk(smiles_list):\n",
    "    \"\"\"Process a chunk of data and return the results.\"\"\"\n",
    "    data_eeq = []\n",
    "    data_alp = []\n",
    "    data = []\n",
    "\n",
    "    for smiles in smiles_list:\n",
    "        jazzydescriptors_eeq, jazzydescriptors_alp, jazzydescriptors = compute_descriptors(smiles)\n",
    "        data_eeq.append(jazzydescriptors_eeq)\n",
    "        data_alp.append(jazzydescriptors_alp)\n",
    "        data.append(jazzydescriptors)\n",
    "\n",
    "    return data_eeq, data_alp, data\n",
    "\n",
    "# Adjust the threshold to a higher number based on your dataset size\n",
    "gc.set_threshold(1000)\n",
    "\n",
    "print('This will take some time. Please be patient...')\n",
    "print('Check \"number_of_processors\" for your system.')\n",
    "\n",
    "smiles_list = db_['SMILES'].tolist()\n",
    "\n",
    "# Use a ThreadPoolExecutor to parallelize the computations\n",
    "number_of_processors = 8\n",
    "# Adjust number of workers based on your system\n",
    "num_workers = min(number_of_processors, len(smiles_list)) \n",
    "\n",
    "chunk_size = len(smiles_list) // num_workers\n",
    "\n",
    "\n",
    "data_eeq = [None] * len(smiles_list)\n",
    "data_alp = [None] * len(smiles_list)\n",
    "data = [None] * len(smiles_list)\n",
    "\n",
    "with concurrent.futures.ProcessPoolExecutor(max_workers=num_workers) as executor:\n",
    "    # Map futures to their original positions\n",
    "    future_to_index = {\n",
    "        executor.submit(process_data_chunk, smiles_list[i:i + chunk_size]): i\n",
    "        for i in range(0, len(smiles_list), chunk_size)\n",
    "    }\n",
    "\n",
    "    # Collect results and place them in the correct positions\n",
    "    for future in tqdm(concurrent.futures.as_completed(future_to_index), total=len(future_to_index)):\n",
    "        chunk_start_index = future_to_index[future]  # Get the start index of the chunk\n",
    "        try:\n",
    "            results = future.result()\n",
    "            # Determine the end index of the chunk\n",
    "            chunk_end_index = min(chunk_start_index + chunk_size, len(smiles_list))\n",
    "            # Extract results for this chunk\n",
    "            result_eeq, result_alp, result_data = results\n",
    "            # Place results in the correct positions\n",
    "            data_eeq[chunk_start_index:chunk_end_index] = result_eeq\n",
    "            data_alp[chunk_start_index:chunk_end_index] = result_alp\n",
    "            data[chunk_start_index:chunk_end_index] = result_data\n",
    "        except Exception as exc:\n",
    "            print(f'Chunk generated an exception: {exc}')\n",
    "           \n",
    "gc.collect() # Optionally, you can run garbage collection at the end\n"
   ]
  },
  {
   "cell_type": "code",
   "execution_count": null,
   "id": "00812f2e-3a86-4631-bd33-39fbbfba5d40",
   "metadata": {},
   "outputs": [],
   "source": [
    "\n",
    "df = pd.DataFrame(data_eeq)\n",
    "df.columns = ['rdf_eeq']\n",
    "df1 = df.round(5)\n",
    "\n",
    "df = pd.DataFrame(data_alp)\n",
    "df.columns = ['rdf_alp']\n",
    "df2 = df.round(5)\n",
    "\n",
    "df3 = pd.DataFrame(data)\n",
    "df3 = df3.round(5)\n"
   ]
  },
  {
   "cell_type": "code",
   "execution_count": null,
   "id": "7ceedf3a-2688-455a-957f-87fccfe3a003",
   "metadata": {},
   "outputs": [],
   "source": [
    "\n",
    "#This is the database for running Machine learning...\n",
    "db = pd.concat([db_, df1, df2, df3], axis=1)\n",
    "db\n"
   ]
  },
  {
   "cell_type": "code",
   "execution_count": null,
   "id": "77baf1cc-c767-40ff-ab10-34cea0715bc0",
   "metadata": {},
   "outputs": [],
   "source": [
    "\n",
    "#filtration 3 (for attributes)\n",
    "db_filtered = db.loc[:, ~(db == 0).all()]\n",
    "number_of_columns_with_zeros = db.shape[1] - db_filtered.shape[1]\n",
    "print(f'{number_of_columns_with_zeros} columns are fully zero.')\n"
   ]
  },
  {
   "cell_type": "code",
   "execution_count": null,
   "id": "656021c8-d3f8-4cee-bf8a-0ac8362eb52c",
   "metadata": {},
   "outputs": [],
   "source": [
    "\n",
    "#filtration 4 (for attributes)\n",
    "db_ = db_filtered.dropna(axis=1)\n",
    "number_of_columns_with_Nans = db_filtered.shape[1] - db_.shape[1]\n",
    "print(f'{number_of_columns_with_Nans} columns are fully np.nan.')\n"
   ]
  },
  {
   "cell_type": "code",
   "execution_count": null,
   "id": "121d9b53-ba2b-42d8-a2d2-67ffae055822",
   "metadata": {},
   "outputs": [],
   "source": [
    "\n",
    "is_scaled = False\n",
    "if is_scaled:\n",
    "    db_['Temperature'] = db_['Temperature'] / max(db_['Temperature'])\n",
    "    db_['sdc'] = db_['sdc'] / max(db_['sdc'])\n",
    "    db_['sdx'] = db_['sdx'] / max(db_['sdx'])\n",
    "    db_['sa'] = db_['sa'] / max(db_['sa'])\n",
    "    db_['dga'] = - db_['dga'] / min(db_['dga'])\n",
    "    db_['dgp'] = - db_['dgp'] / min(db_['dgp'])\n",
    "    db_['dgtot'] = - db_['dgtot'] / min(db_['dgtot'])\n"
   ]
  },
  {
   "cell_type": "code",
   "execution_count": null,
   "id": "c63c709a-53d8-46c5-8755-3cf24003b508",
   "metadata": {},
   "outputs": [],
   "source": [
    "\n",
    "db_new = db_.drop(['ExperimentalSolubilityInWater', 'SMILES'], axis='columns')\n",
    "db_new\n"
   ]
  },
  {
   "cell_type": "code",
   "execution_count": null,
   "id": "eeff5679-da3f-4802-95a9-120bef2df922",
   "metadata": {},
   "outputs": [],
   "source": [
    "\n",
    "db_new.to_csv('../../datasets/processed/datasetJazzyDescriptors.csv', index=False)\n",
    "\n",
    "#dataset wo outliers\n",
    "#db_new.to_csv('../../datasets/processed/datasetJazzyDescriptors_v2.csv', index=False)\n"
   ]
  },
  {
   "cell_type": "code",
   "execution_count": null,
   "id": "f64ffadc-ff22-4335-8c33-6eef1dc1adfe",
   "metadata": {},
   "outputs": [],
   "source": []
  }
 ],
 "metadata": {
  "kernelspec": {
   "display_name": "Python 3 (ipykernel)",
   "language": "python",
   "name": "python3"
  },
  "language_info": {
   "codemirror_mode": {
    "name": "ipython",
    "version": 3
   },
   "file_extension": ".py",
   "mimetype": "text/x-python",
   "name": "python",
   "nbconvert_exporter": "python",
   "pygments_lexer": "ipython3",
   "version": "3.11.5"
  }
 },
 "nbformat": 4,
 "nbformat_minor": 5
}
