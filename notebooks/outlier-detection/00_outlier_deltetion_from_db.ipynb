{
 "cells": [
  {
   "cell_type": "code",
   "execution_count": 1,
   "id": "b5927010-d1d9-46f4-b4fe-1feeed7b02ad",
   "metadata": {
    "tags": []
   },
   "outputs": [],
   "source": [
    "\n",
    "import pandas as pd\n"
   ]
  },
  {
   "cell_type": "code",
   "execution_count": 2,
   "id": "72c1ce61-2267-49b1-b91f-ab7afd36ebc1",
   "metadata": {
    "tags": []
   },
   "outputs": [],
   "source": [
    "\n",
    "#reading outlier information obtained from outlier detection process\n",
    "df_outlier_dft = pd.read_csv('../../outliers/outlier_info_from_dft.csv')\n",
    "df_outlier_dft = df_outlier_dft.drop(columns=['step','prediction_error','predicted_value','true_value','mae'])\n",
    "\n",
    "df_outlier_jazzy = pd.read_csv('../../outliers/outlier_info_from_jazzy.csv')\n",
    "df_outlier_jazzy = df_outlier_jazzy.drop(columns=['step','prediction_error','predicted_value','true_value','mae'])\n",
    "\n",
    "df_outlier_rdkit = pd.read_csv('../../outliers/outlier_info_from_rdkit.csv')\n",
    "df_outlier_rdkit = df_outlier_rdkit.drop(columns=['step','prediction_error','predicted_value','true_value','mae'])\n",
    "\n",
    "df_outlier_wecfp = pd.read_csv('../../outliers/outlier_info_from_wecfp.csv')\n"
   ]
  },
  {
   "cell_type": "code",
   "execution_count": 3,
   "id": "f5060856-d81d-41a4-915b-b1161c95302f",
   "metadata": {
    "tags": []
   },
   "outputs": [],
   "source": [
    "\n",
    "#find common rows\n",
    "# Merging dataframes on 'molindex'\n",
    "common_rows = df_outlier_dft.merge(df_outlier_jazzy, on='molindx', how='inner')\n",
    "common_rows = common_rows.merge(df_outlier_rdkit, on='molindx', how='inner')\n",
    "common_rows = common_rows.merge(df_outlier_wecfp, on='molindx', how='inner')\n",
    "\n",
    "df_common_records = common_rows\n"
   ]
  },
  {
   "cell_type": "code",
   "execution_count": 4,
   "id": "deb64588-b5bc-4af6-b5f7-2558b6b2427d",
   "metadata": {
    "tags": []
   },
   "outputs": [
    {
     "name": "stdout",
     "output_type": "stream",
     "text": [
      "Number of common outlier:\n"
     ]
    },
    {
     "data": {
      "text/plain": [
       "750"
      ]
     },
     "execution_count": 4,
     "metadata": {},
     "output_type": "execute_result"
    }
   ],
   "source": [
    "\n",
    "error_lim = 3  #if 2 all outliers in\n",
    "\n",
    "outlier_db = df_common_records[df_common_records['prediction_error'] > error_lim]\n",
    "outlier_idx = outlier_db['molindx'].reset_index(drop=True)\n",
    "\n",
    "print('Number of common outlier:')\n",
    "outlier_idx.shape[0]\n"
   ]
  },
  {
   "cell_type": "code",
   "execution_count": 5,
   "id": "d73d543c-5474-46e2-8264-8424dd982f02",
   "metadata": {
    "tags": []
   },
   "outputs": [
    {
     "name": "stdout",
     "output_type": "stream",
     "text": [
      "Size of the clean data set:\n"
     ]
    },
    {
     "data": {
      "text/plain": [
       "3885"
      ]
     },
     "execution_count": 5,
     "metadata": {},
     "output_type": "execute_result"
    }
   ],
   "source": [
    "\n",
    "db = pd.read_csv('../../datasets/processed/cleaned_data_v1.csv')\n",
    "\n",
    "db.drop(outlier_idx, inplace=True)\n",
    "db_updated = db.reset_index(drop=True)\n",
    "\n",
    "print('Size of the clean data set:')\n",
    "db_updated.shape[0]\n"
   ]
  },
  {
   "cell_type": "code",
   "execution_count": 6,
   "id": "da46a03b-33b9-4f8b-a48b-f1bd8bb1c889",
   "metadata": {
    "tags": []
   },
   "outputs": [],
   "source": [
    "\n",
    "is_printed_to_csv = True\n",
    "if is_printed_to_csv:\n",
    "    db_updated.to_csv('../../datasets/processed/cleaned_data_v2.csv', index=False)\n"
   ]
  },
  {
   "cell_type": "code",
   "execution_count": null,
   "id": "3bedb041-9aba-4f28-87d6-a830a42830da",
   "metadata": {},
   "outputs": [],
   "source": []
  }
 ],
 "metadata": {
  "kernelspec": {
   "display_name": "Python 3 (ipykernel)",
   "language": "python",
   "name": "python3"
  },
  "language_info": {
   "codemirror_mode": {
    "name": "ipython",
    "version": 3
   },
   "file_extension": ".py",
   "mimetype": "text/x-python",
   "name": "python",
   "nbconvert_exporter": "python",
   "pygments_lexer": "ipython3",
   "version": "3.11.9"
  }
 },
 "nbformat": 4,
 "nbformat_minor": 5
}
