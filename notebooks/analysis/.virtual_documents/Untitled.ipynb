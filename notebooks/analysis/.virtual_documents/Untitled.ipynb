



import sys
import numpy as np
import pandas as pd
import matplotlib.pyplot as plt

path_to_scripts = '../../scripts/utilities/'
sys.path.append(path_to_scripts)
from smiles_property_extractor import ChemicalInfoFromSmiles




