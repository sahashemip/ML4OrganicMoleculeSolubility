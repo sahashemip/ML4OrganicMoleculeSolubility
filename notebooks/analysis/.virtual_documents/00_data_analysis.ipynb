



import sys
import numpy as np
import pandas as pd
import matplotlib.pyplot as plt

path_to_scripts = '../../scripts/utilities/'
sys.path.append(path_to_scripts)
from smiles_property_extractor import ChemicalInfoFromSmiles




db_name = '../../datasets/raw/somas_database.csv'
rename_some_columns = True




print(f'Reading DB: {db_name} ...')
db = pd.read_csv(db_name)




if rename_some_columns:
    print('Renaming some columns ...')
    db = db.rename(columns={
    'Molar Mass': 'MolarMass',
    'CAS Number': 'CASNumber',
    'Experimental Solubility in Water': 'ExperimentalSolubilityInWater',
    'Experiment Reference': 'ExperimentReference',
    'Solvation Energy': 'SolvationEnergy',
    'Dipole Moment': 'DipoleMoment',
    'Molecular Volume': 'MolecularVolume',
    'Molecular Surface Area': 'MolecularSurfaceArea',
    'Standard InChIKey': 'StandardInChIKey',
    'Cal logP': 'CalLogP',
    'Cal MR': 'CalMR',
    'Labute ASA': 'LabuteASA',
    'Balaban J index': 'BalabanJIndex',
    'Bertz CT index': 'BertzCTIndex'
    })




print('Adding aromaticity information to the database ...')
db = db.assign(Aromatic=lambda x: x['SMILES'].apply(ChemicalInfoFromSmiles.is_aromatic))




print('Adding cyclicity information to the database ...')
db = db.assign(Cyclic=lambda x: x['SMILES'].apply(ChemicalInfoFromSmiles.is_cyclic))




print('Adding charge neutrality information to the database ...')
db = db.assign(ChargeNeutral=lambda x: x['SMILES'].apply(ChemicalInfoFromSmiles.is_neutral))




#key_elements = {'Br', 'I', 'Cl', 'F', 'H', 'C', 'N', 'O', 'S', 'P'}
print('Adding information of "key_elements"-made ...')
db = db.assign(MadeOfKeyElements=lambda x: x['SMILES'].apply(
    ChemicalInfoFromSmiles.is_composed_of_specific_elements)
              )




#filteration 1
print('Filter records based on aromaticity == True and reset indices ...')
db_filtered = db[db['Aromatic'] == True]
db_updated = db_filtered.reset_index(drop=True)

number_of_excluded_molecues = db.shape[0] - db_updated.shape[0]
print(f'{number_of_excluded_molecues} were excluded!')




#filteration 2
print('Filter records based on cyclicity == True and reset indices ...')
db_filtered_ = db_updated[db_updated['Cyclic'] == True]
db_updated_ = db_filtered_.reset_index(drop=True)

number_of_excluded_molecues = db_updated.shape[0] - db_updated_.shape[0]
print(f'{number_of_excluded_molecues} were excluded!')




#filteration 3
print('Filter records based on ChargeNeutral == True and reset indices ...')
db_filtered = db_updated_[db_updated_['ChargeNeutral'] == True]
db_updated = db_filtered.reset_index(drop=True)

number_of_excluded_molecues = db_updated_.shape[0] - db_updated.shape[0]
print(f'{number_of_excluded_molecues} were excluded!')




#filteration 4
print('Filter records based on MadeOfKeyElements == True and reset indices ...')
db_filtered_ = db_updated_[db_updated_['MadeOfKeyElements'] == True]
db_updated_ = db_filtered_.reset_index(drop=True)

number_of_excluded_molecues = db_updated.shape[0] - db_updated_.shape[0]
print(f'{number_of_excluded_molecues} were excluded!')




#continue "#filteration 4"
#I found them by cheching images produced from below cell
print('Drop the following records with deterium')
molecules_indices_with_deterium = [339, 2030]
for idx in molecules_indices_with_deterium:
    smiles = db_updated_['SMILES'].iloc[idx]
    print(idx, smiles)

db_updated_.drop(molecules_indices_with_deterium, inplace=True)
db_updated_ = db_updated_.reset_index(drop=True)




print('In total 20 samples were excluded!')







fig, (ax1, ax2) = plt.subplots(1, 2, figsize=(6, 3))
#hist
db_updated_['ExperimentalSolubilityInWater'].hist(bins=50, ax=ax1, grid=False)
ax1.set_xlabel('Experimental Solubility (mg/L)')
ax1.set_ylabel('Count')
#scatter
ax2.scatter(db_updated_['ExperimentalSolubilityInWater'],
            db_updated_['ExperimentalSolubilityInWater'],
            edgecolor='blue', facecolors='none')
ax2.set_xlabel('Experimental Solubility (mg/L)')
ax2.set_ylabel('Experimental Solubility (mg/L)')
plt.show()




#filteration 5
print('Removing records with extraordinary solubilities ...')
db_updated_2 = db_updated_[db_updated_['ExperimentalSolubilityInWater'] < 1E6]
db_updated_2 = db_updated_2.reset_index(drop=True)




number_of_samples_db_updated = db_updated_.shape[0]
number_of_samples_db_updated_2 = db_updated_2.shape[0]
print('Number of excluded data due to filteration 2:')
number_of_samples_db_updated - number_of_samples_db_updated_2




fig, (ax1, ax2) = plt.subplots(1, 2, figsize=(6, 3))
#hist
db_updated_2['ExperimentalSolubilityInWater'].hist(bins=50, ax=ax1, grid=False)
ax1.set_xlabel('Experimental Solubility (mg/L)')
ax1.set_ylabel('Count')
#scatter
ax2.scatter(db_updated_2['ExperimentalSolubilityInWater'],
            db_updated_2['ExperimentalSolubilityInWater'],
            edgecolor='blue', facecolors='none')
ax2.set_xlabel('Experimental Solubility (mg/L)')
ax2.set_ylabel('Experimental Solubility (mg/L)')
plt.show()




#filteration 6
print('Removing records with molar mass >= 500 Da ...')
db_updated_2_ = db_updated_2[db_updated_2['MolarMass'] < 500]
db_updated = db_updated_2_.reset_index(drop=True)




number_of_samples_db_updated_2 = db_updated_2.shape[0]
number_of_samples_db_updated = db_updated.shape[0]
print('Number of excluded data due to filteration 2:')
number_of_samples_db_updated_2 - number_of_samples_db_updated




#filteration 7
print('Check duplications based on smiles')
duplicates = db_updated.duplicated(subset='SMILES', keep=False)
print(f'Number of duplications based on SMILES is: {db_updated[duplicates].shape[0]}')

print('Check duplications based on names')
duplicates = db_updated.duplicated(subset='Name', keep=False)
print(f'Number of duplications based on Name is: {db_updated[duplicates].shape[0]}')




is_making_images = False

if is_making_images:
    print('Generating molecular images: takes a few minutes ...')
    ChemicalInfoFromSmiles.get_pngs_from_simles(db_updated, dirname='images')




#continue "#filteration 8"
#I found that some molecules (30) are completely different and 
#shuold be excluded. Indeed, some of them cannot be proceed by Jazzy
# Does not proceed by Jazzy: 2397, 3652, 3926, 3944, 3946, 4041
print('Drop the case that can not be analyzed by Jazzy ...')
molecules_indices = [2397, 3652, 3926, 3944, 3946, 4041, 1689, 1791, 2397, 2459, 3019, 3147,
                     3220, 3329, 3447, 3457, 3505, 3578, 3652, 3926, 3944, 3946, 3956, 4028,
                     4036, 4041, 4055, 4117, 4148, 4136, 4169, 4199, 4234, 4394, 4412, 4468]
for idx in molecules_indices:
    smiles = db_updated['SMILES'].iloc[idx]
    print(idx, smiles)

db_updated.drop(molecules_indices, inplace=True)
db_updated_ = db_updated.reset_index(drop=True)




db_updated_




db_updated_.index.name = 'molindx'
db_updated_.to_csv('../../datasets/processed/cleaned_data_v1.csv', index=True)




