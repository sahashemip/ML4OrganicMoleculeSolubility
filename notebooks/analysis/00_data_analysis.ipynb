{
 "cells": [
  {
   "cell_type": "markdown",
   "id": "266f898a-262c-4d26-bfb9-9f3b1c2c564c",
   "metadata": {},
   "source": [
    "## Data Cleansing and storing to a new CSV file; 'datasets/processed/cleaned_data_v1.csv'"
   ]
  },
  {
   "cell_type": "code",
   "execution_count": 1,
   "id": "116b69b0-4fb9-48d8-a303-b64b6f023a02",
   "metadata": {},
   "outputs": [],
   "source": [
    "\n",
    "import sys\n",
    "import numpy as np\n",
    "import pandas as pd\n",
    "import matplotlib.pyplot as plt\n",
    "\n",
    "path_to_scripts = '../../scripts/utilities/'\n",
    "sys.path.append(path_to_scripts)\n",
    "from smiles_property_extractor import ChemicalInfoFromSmiles\n"
   ]
  },
  {
   "cell_type": "code",
   "execution_count": 2,
   "id": "9273c086-9d2d-4e09-aa67-6c3a94f8f46e",
   "metadata": {},
   "outputs": [],
   "source": [
    "\n",
    "db_name = '../../datasets/raw/somas_database.csv'\n",
    "rename_some_columns = True\n"
   ]
  },
  {
   "cell_type": "code",
   "execution_count": 3,
   "id": "13ae7414-3e44-4897-ac61-98260befdd7c",
   "metadata": {},
   "outputs": [
    {
     "name": "stdout",
     "output_type": "stream",
     "text": [
      "Reading DB: ../../datasets/raw/somas_database.csv ...\n"
     ]
    }
   ],
   "source": [
    "\n",
    "print(f'Reading DB: {db_name} ...')\n",
    "db = pd.read_csv(db_name)\n"
   ]
  },
  {
   "cell_type": "code",
   "execution_count": 4,
   "id": "c48ffd55-e835-49a3-ab62-2777735c8f1c",
   "metadata": {},
   "outputs": [
    {
     "name": "stdout",
     "output_type": "stream",
     "text": [
      "Renaming some columns ...\n"
     ]
    }
   ],
   "source": [
    "\n",
    "if rename_some_columns:\n",
    "    print('Renaming some columns ...')\n",
    "    db = db.rename(columns={\n",
    "    'Molar Mass': 'MolarMass',\n",
    "    'CAS Number': 'CASNumber',\n",
    "    'Experimental Solubility in Water': 'ExperimentalSolubilityInWater',\n",
    "    'Experiment Reference': 'ExperimentReference',\n",
    "    'Solvation Energy': 'SolvationEnergy',\n",
    "    'Dipole Moment': 'DipoleMoment',\n",
    "    'Molecular Volume': 'MolecularVolume',\n",
    "    'Molecular Surface Area': 'MolecularSurfaceArea',\n",
    "    'Standard InChIKey': 'StandardInChIKey',\n",
    "    'Cal logP': 'CalLogP',\n",
    "    'Cal MR': 'CalMR',\n",
    "    'Labute ASA': 'LabuteASA',\n",
    "    'Balaban J index': 'BalabanJIndex',\n",
    "    'Bertz CT index': 'BertzCTIndex'\n",
    "    })\n"
   ]
  },
  {
   "cell_type": "code",
   "execution_count": 5,
   "id": "befe3864-47b4-4d1a-b744-f1eb9e038dcb",
   "metadata": {},
   "outputs": [
    {
     "name": "stdout",
     "output_type": "stream",
     "text": [
      "Adding aromaticity information to the database ...\n"
     ]
    }
   ],
   "source": [
    "\n",
    "print('Adding aromaticity information to the database ...')\n",
    "db = db.assign(Aromatic=lambda x: x['SMILES'].apply(ChemicalInfoFromSmiles.is_aromatic))\n"
   ]
  },
  {
   "cell_type": "code",
   "execution_count": 6,
   "id": "c326be2e-efc2-4f8d-9c66-77c389550725",
   "metadata": {},
   "outputs": [
    {
     "name": "stdout",
     "output_type": "stream",
     "text": [
      "Adding cyclicity information to the database ...\n"
     ]
    }
   ],
   "source": [
    "\n",
    "print('Adding cyclicity information to the database ...')\n",
    "db = db.assign(Cyclic=lambda x: x['SMILES'].apply(ChemicalInfoFromSmiles.is_cyclic))\n"
   ]
  },
  {
   "cell_type": "code",
   "execution_count": 7,
   "id": "1012126b-451a-4462-b3fc-042e8c352a6c",
   "metadata": {},
   "outputs": [
    {
     "name": "stdout",
     "output_type": "stream",
     "text": [
      "Adding charge neutrality information to the database ...\n"
     ]
    }
   ],
   "source": [
    "\n",
    "print('Adding charge neutrality information to the database ...')\n",
    "db = db.assign(ChargeNeutral=lambda x: x['SMILES'].apply(ChemicalInfoFromSmiles.is_neutral))\n"
   ]
  },
  {
   "cell_type": "code",
   "execution_count": 8,
   "id": "e2e47fed-3308-4105-8e79-d4b1c275e58c",
   "metadata": {},
   "outputs": [
    {
     "name": "stdout",
     "output_type": "stream",
     "text": [
      "Adding information of \"key_elements\"-made ...\n"
     ]
    }
   ],
   "source": [
    "\n",
    "#key_elements = {'Br', 'I', 'Cl', 'F', 'H', 'C', 'N', 'O', 'S', 'P'}\n",
    "print('Adding information of \"key_elements\"-made ...')\n",
    "db = db.assign(MadeOfKeyElements=lambda x: x['SMILES'].apply(\n",
    "    ChemicalInfoFromSmiles.is_composed_of_specific_elements)\n",
    "              )\n"
   ]
  },
  {
   "cell_type": "code",
   "execution_count": 9,
   "id": "19905b81-4aa9-4214-90d0-9ea41a05579b",
   "metadata": {},
   "outputs": [
    {
     "name": "stdout",
     "output_type": "stream",
     "text": [
      "Filter records based on aromaticity == True and reset indices ...\n",
      "6845 were excluded!\n"
     ]
    }
   ],
   "source": [
    "\n",
    "#filteration 1\n",
    "print('Filter records based on aromaticity == True and reset indices ...')\n",
    "db_filtered = db[db['Aromatic'] == True]\n",
    "db_updated = db_filtered.reset_index(drop=True)\n",
    "\n",
    "number_of_excluded_molecues = db.shape[0] - db_updated.shape[0]\n",
    "print(f'{number_of_excluded_molecues} were excluded!')\n"
   ]
  },
  {
   "cell_type": "code",
   "execution_count": 10,
   "id": "918a6329-21ce-4b3a-a87e-f872e54596cf",
   "metadata": {},
   "outputs": [
    {
     "name": "stdout",
     "output_type": "stream",
     "text": [
      "Filter records based on cyclicity == True and reset indices ...\n",
      "0 were excluded!\n"
     ]
    }
   ],
   "source": [
    "\n",
    "#filteration 2\n",
    "print('Filter records based on cyclicity == True and reset indices ...')\n",
    "db_filtered_ = db_updated[db_updated['Cyclic'] == True]\n",
    "db_updated_ = db_filtered_.reset_index(drop=True)\n",
    "\n",
    "number_of_excluded_molecues = db_updated.shape[0] - db_updated_.shape[0]\n",
    "print(f'{number_of_excluded_molecues} were excluded!')\n"
   ]
  },
  {
   "cell_type": "code",
   "execution_count": 11,
   "id": "5c74181b-ca89-4ad4-8ff3-df7a36c4cdd2",
   "metadata": {},
   "outputs": [
    {
     "name": "stdout",
     "output_type": "stream",
     "text": [
      "Filter records based on ChargeNeutral == True and reset indices ...\n",
      "3 were excluded!\n"
     ]
    }
   ],
   "source": [
    "\n",
    "#filteration 3\n",
    "print('Filter records based on ChargeNeutral == True and reset indices ...')\n",
    "db_filtered = db_updated_[db_updated_['ChargeNeutral'] == True]\n",
    "db_updated = db_filtered.reset_index(drop=True)\n",
    "\n",
    "number_of_excluded_molecues = db_updated_.shape[0] - db_updated.shape[0]\n",
    "print(f'{number_of_excluded_molecues} were excluded!')\n"
   ]
  },
  {
   "cell_type": "code",
   "execution_count": 12,
   "id": "4e68fc39-e40c-4446-bc43-3da871183ae0",
   "metadata": {},
   "outputs": [
    {
     "name": "stdout",
     "output_type": "stream",
     "text": [
      "Filter records based on MadeOfKeyElements == True and reset indices ...\n",
      "18 were excluded!\n"
     ]
    }
   ],
   "source": [
    "\n",
    "#filteration 4\n",
    "print('Filter records based on MadeOfKeyElements == True and reset indices ...')\n",
    "db_filtered_ = db_updated_[db_updated_['MadeOfKeyElements'] == True]\n",
    "db_updated_ = db_filtered_.reset_index(drop=True)\n",
    "\n",
    "number_of_excluded_molecues = db_updated.shape[0] - db_updated_.shape[0]\n",
    "print(f'{number_of_excluded_molecues} were excluded!')\n"
   ]
  },
  {
   "cell_type": "code",
   "execution_count": 13,
   "id": "0400510d-e2f6-4c5c-815f-3eb4a86187f4",
   "metadata": {},
   "outputs": [
    {
     "name": "stdout",
     "output_type": "stream",
     "text": [
      "Drop the following records with deterium\n",
      "339 [2H]C1=C(C(=C(C(=C1[2H])[2H])C(=O)O)[2H])[2H]\n",
      "2030 [2H]C1=C(C(=C2C(=C1[2H])C(C(C(C2([2H])[2H])([2H])[2H])([2H])[2H])([2H])[2H])[2H])[2H]\n"
     ]
    }
   ],
   "source": [
    "\n",
    "#continue \"#filteration 4\"\n",
    "#I found them by cheching images produced from below cell\n",
    "print('Drop the following records with deterium')\n",
    "molecules_indices_with_deterium = [339, 2030]\n",
    "for idx in molecules_indices_with_deterium:\n",
    "    smiles = db_updated_['SMILES'].iloc[idx]\n",
    "    print(idx, smiles)\n",
    "\n",
    "db_updated_.drop(molecules_indices_with_deterium, inplace=True)\n",
    "db_updated_ = db_updated_.reset_index(drop=True)\n"
   ]
  },
  {
   "cell_type": "code",
   "execution_count": 14,
   "id": "1ac53b0f-a29b-492a-a7ea-3f30f487bf02",
   "metadata": {},
   "outputs": [
    {
     "name": "stdout",
     "output_type": "stream",
     "text": [
      "In total 20 samples were excluded!\n"
     ]
    }
   ],
   "source": [
    "\n",
    "print('In total 20 samples were excluded!')\n"
   ]
  },
  {
   "cell_type": "markdown",
   "id": "30a0d18c-f254-4b1f-8152-ad63b0eac1eb",
   "metadata": {},
   "source": [
    "### Target values distribution ..."
   ]
  },
  {
   "cell_type": "code",
   "execution_count": 15,
   "id": "de1fbd94-b664-4e2b-89f2-aaabc83c2cfe",
   "metadata": {},
   "outputs": [
    {
     "data": {
      "image/png": "[encoded data removed]",
      "text/plain": [
       "<Figure size 600x300 with 2 Axes>"
      ]
     },
     "metadata": {},
     "output_type": "display_data"
    }
   ],
   "source": [
    "\n",
    "fig, (ax1, ax2) = plt.subplots(1, 2, figsize=(6, 3))\n",
    "#hist\n",
    "db_updated_['ExperimentalSolubilityInWater'].hist(bins=50, ax=ax1, grid=False)\n",
    "ax1.set_xlabel('Experimental Solubility (mg/L)')\n",
    "ax1.set_ylabel('Count')\n",
    "#scatter\n",
    "ax2.scatter(db_updated_['ExperimentalSolubilityInWater'],\n",
    "            db_updated_['ExperimentalSolubilityInWater'],\n",
    "            edgecolor='blue', facecolors='none')\n",
    "ax2.set_xlabel('Experimental Solubility (mg/L)')\n",
    "ax2.set_ylabel('Experimental Solubility (mg/L)')\n",
    "plt.show()\n"
   ]
  },
  {
   "cell_type": "code",
   "execution_count": 16,
   "id": "4c50ceb9-8720-4b79-8e50-acc7c2b26988",
   "metadata": {},
   "outputs": [
    {
     "name": "stdout",
     "output_type": "stream",
     "text": [
      "Removing records with extraordinary solubilities ...\n"
     ]
    }
   ],
   "source": [
    "\n",
    "#filteration 5\n",
    "print('Removing records with extraordinary solubilities ...')\n",
    "db_updated_2 = db_updated_[db_updated_['ExperimentalSolubilityInWater'] < 1E6]\n",
    "db_updated_2 = db_updated_2.reset_index(drop=True)\n"
   ]
  },
  {
   "cell_type": "code",
   "execution_count": 17,
   "id": "05f038ec-338b-4e3c-ba79-bf0b25055d7a",
   "metadata": {},
   "outputs": [
    {
     "name": "stdout",
     "output_type": "stream",
     "text": [
      "Number of excluded data due to filteration 2:\n"
     ]
    },
    {
     "data": {
      "text/plain": [
       "41"
      ]
     },
     "execution_count": 17,
     "metadata": {},
     "output_type": "execute_result"
    }
   ],
   "source": [
    "\n",
    "number_of_samples_db_updated = db_updated_.shape[0]\n",
    "number_of_samples_db_updated_2 = db_updated_2.shape[0]\n",
    "print('Number of excluded data due to filteration 2:')\n",
    "number_of_samples_db_updated - number_of_samples_db_updated_2\n"
   ]
  },
  {
   "cell_type": "code",
   "execution_count": 18,
   "id": "bd0d3f52-b872-4ac0-afb2-2b8a03c68ecd",
   "metadata": {},
   "outputs": [
    {
     "data": {
      "image/png": "[encoded data removed]",
      "text/plain": [
       "<Figure size 600x300 with 2 Axes>"
      ]
     },
     "metadata": {},
     "output_type": "display_data"
    }
   ],
   "source": [
    "\n",
    "fig, (ax1, ax2) = plt.subplots(1, 2, figsize=(6, 3))\n",
    "#hist\n",
    "db_updated_2['ExperimentalSolubilityInWater'].hist(bins=50, ax=ax1, grid=False)\n",
    "ax1.set_xlabel('Experimental Solubility (mg/L)')\n",
    "ax1.set_ylabel('Count')\n",
    "#scatter\n",
    "ax2.scatter(db_updated_2['ExperimentalSolubilityInWater'],\n",
    "            db_updated_2['ExperimentalSolubilityInWater'],\n",
    "            edgecolor='blue', facecolors='none')\n",
    "ax2.set_xlabel('Experimental Solubility (mg/L)')\n",
    "ax2.set_ylabel('Experimental Solubility (mg/L)')\n",
    "plt.show()\n"
   ]
  },
  {
   "cell_type": "code",
   "execution_count": 19,
   "id": "707508f9-4d95-456d-b4a0-1a45c5389090",
   "metadata": {},
   "outputs": [
    {
     "name": "stdout",
     "output_type": "stream",
     "text": [
      "Removing records with molar mass >= 500 Da ...\n"
     ]
    }
   ],
   "source": [
    "\n",
    "#filteration 6\n",
    "print('Removing records with molar mass >= 500 Da ...')\n",
    "db_updated_2_ = db_updated_2[db_updated_2['MolarMass'] < 500]\n",
    "db_updated = db_updated_2_.reset_index(drop=True)\n"
   ]
  },
  {
   "cell_type": "code",
   "execution_count": 20,
   "id": "d2fb069f-8340-4718-bb38-0d0a236a9f52",
   "metadata": {},
   "outputs": [
    {
     "name": "stdout",
     "output_type": "stream",
     "text": [
      "Number of excluded data due to filteration 2:\n"
     ]
    },
    {
     "data": {
      "text/plain": [
       "122"
      ]
     },
     "execution_count": 20,
     "metadata": {},
     "output_type": "execute_result"
    }
   ],
   "source": [
    "\n",
    "number_of_samples_db_updated_2 = db_updated_2.shape[0]\n",
    "number_of_samples_db_updated = db_updated.shape[0]\n",
    "print('Number of excluded data due to filteration 2:')\n",
    "number_of_samples_db_updated_2 - number_of_samples_db_updated\n"
   ]
  },
  {
   "cell_type": "code",
   "execution_count": 21,
   "id": "96cdfd20-72fc-44d5-aae6-b7b03579dd62",
   "metadata": {},
   "outputs": [
    {
     "name": "stdout",
     "output_type": "stream",
     "text": [
      "Check duplications based on smiles\n",
      "Number of duplications based on SMILES is: 0\n",
      "Check duplications based on names\n",
      "Number of duplications based on Name is: 0\n"
     ]
    }
   ],
   "source": [
    "\n",
    "#filteration 7\n",
    "print('Check duplications based on smiles')\n",
    "duplicates = db_updated.duplicated(subset='SMILES', keep=False)\n",
    "print(f'Number of duplications based on SMILES is: {db_updated[duplicates].shape[0]}')\n",
    "\n",
    "print('Check duplications based on names')\n",
    "duplicates = db_updated.duplicated(subset='Name', keep=False)\n",
    "print(f'Number of duplications based on Name is: {db_updated[duplicates].shape[0]}')\n"
   ]
  },
  {
   "cell_type": "code",
   "execution_count": 22,
   "id": "d601f2bf-1518-43d7-89ee-aa5abd63c17e",
   "metadata": {},
   "outputs": [],
   "source": [
    "\n",
    "is_making_images = False\n",
    "\n",
    "if is_making_images:\n",
    "    print('Generating molecular images: takes a few minutes ...')\n",
    "    ChemicalInfoFromSmiles.get_pngs_from_simles(db_updated, dirname='images')\n"
   ]
  },
  {
   "cell_type": "code",
   "execution_count": 23,
   "id": "effbf661-3f12-405f-8d91-f2fd99bd7caa",
   "metadata": {},
   "outputs": [
    {
     "name": "stdout",
     "output_type": "stream",
     "text": [
      "Drop the case that can not be analyzed by Jazzy ...\n",
      "2397 CC(C)[C@@]1(O)[C@@H](OC(=O)C2=CC=CN2)[C@@]2(O)[C@@]3(C)C[C@]4(O)O[C@@]5([C@H](O)[C@@H](C)CC[C@]35O)[C@@]2(O)[C@@]14C\n",
      "3652 [H][C@@](O)(C1=CC=NC2=CC=C(OC)C=C12)[C@]1([H])C[C@@H]2CC[N@]1C[C@@H]2C(O)=O\n",
      "3926 [H][C@@](O)(C1=CC=NC2=CC=CC=C12)[C@]1([H])C[C@@H]2CC[N@]1C[C@@H]2C=C\n",
      "3944 [H][C@](O)(C1=CC=NC2=CC=CC=C12)[C@@]1([H])C[C@@H]2CC[N@]1C[C@@H]2CC\n",
      "3946 [H][C@](O)(C1=CC=NC2=C1C=CC=C2)[C@@]1([H])C[C@@H]2CC[N@]1C[C@@H]2C=C\n",
      "4041 C1[C@H]2CNC[C@H]1C3=CC=CC(=O)N3C2\n",
      "1689 CS(=O)(=O)C1=CC(=C(C=C1)C(=O)C2=C(C3CCC(C3)C2=O)SC4=CC=CC=C4)Cl\n",
      "1791 CN1C=C(C(=N1)C(F)F)C(=O)NC2=CC=CC3=C2[C@@H]4CC[C@H]3C4=C(Cl)Cl\n",
      "2397 CC(C)[C@@]1(O)[C@@H](OC(=O)C2=CC=CN2)[C@@]2(O)[C@@]3(C)C[C@]4(O)O[C@@]5([C@H](O)[C@@H](C)CC[C@]35O)[C@@]2(O)[C@@]14C\n",
      "2459 C(NC12OC3C4C5C(C14)C1CC5C3C21)C1=CC=CC=C1\n",
      "3019 CN1C2CCC1CN(C2)C(=O)C(CO)(C3=CC=CC=C3)C4=CC=CC=C4\n",
      "3147 COC1=CC2=C(C=CN=C2C=C1)[C@@H]([C@H]3C[C@@H]4CCN3C[C@@H]4C=C)O\n",
      "3220 CCCN1C2=C(C(=O)N(C1=O)CCC)NC(=N2)C34CC5CC(C3)CC4C5\n",
      "3329 CNCCCC12CCC(C3=CC=CC=C31)C4=CC=CC=C24\n",
      "3447 CN1CC2CCC(C1)N2C(=O)C(CO)(C3=CC=CC=C3)C4=CC=CC=C4\n",
      "3457 CN1C2CCC1CC(C2)OC(=O)C(COS(=O)(=O)O)C3=CC=CC=C3\n",
      "3505 CN1C2CCC1CC(C2)OC(=O)C(CO)C3=CC=CC=C3\n",
      "3578 C1C2C3C(C1C4C2N=NN4C5=CC=C(C=C5)Cl)N=N3\n",
      "3652 [H][C@@](O)(C1=CC=NC2=CC=C(OC)C=C12)[C@]1([H])C[C@@H]2CC[N@]1C[C@@H]2C(O)=O\n",
      "3926 [H][C@@](O)(C1=CC=NC2=CC=CC=C12)[C@]1([H])C[C@@H]2CC[N@]1C[C@@H]2C=C\n",
      "3944 [H][C@](O)(C1=CC=NC2=CC=CC=C12)[C@@]1([H])C[C@@H]2CC[N@]1C[C@@H]2CC\n",
      "3946 [H][C@](O)(C1=CC=NC2=C1C=CC=C2)[C@@]1([H])C[C@@H]2CC[N@]1C[C@@H]2C=C\n",
      "3956 CN1[C@@H]2CC(C[C@H]1[C@H]3[C@@H]2O3)OC(=O)[C@H](CO)C4=CC=CC=C4\n",
      "4028 CN1CC[C@]23C4OC5=C(OC(C)=O)C=CC(C[C@@H]1[C@@H]2C=CC4OC(C)=O)=C35\n",
      "4036 CN1CC[C@]23[C@@H]4[C@H]1CC5=C2C(=C(C=C5)O)O[C@H]3C(=O)CC4\n",
      "4041 C1[C@H]2CNC[C@H]1C3=CC=CC(=O)N3C2\n",
      "4055 CC(C)(C)C1=CC(=C(C=C1)OC)CN[C@@H]2[C@@H](N3CCC2CC3)C(C4=CC=CC=C4)C5=CC=CC=C5\n",
      "4117 O=C1CC2OCC=C3CN4CC[C@@]56[C@@H]4C[C@@H]3[C@@H]2C5N1C1=C6C=CC=C1\n",
      "4148 CN1CC[C@]23[C@@H]4[C@H]1CC5=C2C(=C(C=C5)O)O[C@H]3[C@H](C=C4)O\n",
      "4136 CC1=NC2=CC3=C(C=C2S1)OC4(O3)CCCCC4\n",
      "4169 CN1CC[C@]23[C@@H]4[C@H]1CC5=C2C(=C(C=C5)OC)O[C@H]3[C@H](C=C4)O\n",
      "4199 CO[C@]12CC[C@@]3(C[C@@H]1[C@](C)(O)C(C)(C)C)[C@H]1CC4=C5C(O[C@@H]2[C@@]35CCN1CC1CC1)=C(O)C=C4\n",
      "4234 CN1CC[C@]23CCCC[C@H]2[C@H]1CC4=C3C=C(C=C4)OC\n",
      "4394 CN1CC[C@]23[C@@H]4C(=CC=C2[C@H]1CC5=C3C(=C(C=C5)OC)O4)OC\n",
      "4412 CC[C@H]1[C@@H]2C[C@H]3[C@H]4[C@@]5(C[C@@H](C2C5O)N3[C@@H]1O)C6=CC=CC=C6N4C\n",
      "4468 COC1=C(C=C2C(=C1)[C@]34CCN5[C@H]3C[C@@H]6[C@@H]7C4N2C(=O)CC7OCC=C6C5)OC\n"
     ]
    }
   ],
   "source": [
    "\n",
    "#continue \"#filteration 8\"\n",
    "#I found that some molecules (30) are completely different and \n",
    "#shuold be excluded. Indeed, some of them cannot be proceed by Jazzy\n",
    "# Does not proceed by Jazzy: 2397, 3652, 3926, 3944, 3946, 4041\n",
    "print('Drop the case that can not be analyzed by Jazzy ...')\n",
    "molecules_indices = [2397, 3652, 3926, 3944, 3946, 4041, 1689, 1791, 2397, 2459, 3019, 3147,\n",
    "                     3220, 3329, 3447, 3457, 3505, 3578, 3652, 3926, 3944, 3946, 3956, 4028,\n",
    "                     4036, 4041, 4055, 4117, 4148, 4136, 4169, 4199, 4234, 4394, 4412, 4468]\n",
    "for idx in molecules_indices:\n",
    "    smiles = db_updated['SMILES'].iloc[idx]\n",
    "    print(idx, smiles)\n",
    "\n",
    "db_updated.drop(molecules_indices, inplace=True)\n",
    "db_updated_ = db_updated.reset_index(drop=True)\n"
   ]
  },
  {
   "cell_type": "code",
   "execution_count": 24,
   "id": "d05bcfea-3105-409d-8343-e7e21a639951",
   "metadata": {},
   "outputs": [
    {
     "data": {
      "text/html": [
       "<div>\n",
       "<style scoped>\n",
       "    .dataframe tbody tr th:only-of-type {\n",
       "        vertical-align: middle;\n",
       "    }\n",
       "\n",
       "    .dataframe tbody tr th {\n",
       "        vertical-align: top;\n",
       "    }\n",
       "\n",
       "    .dataframe thead th {\n",
       "        text-align: right;\n",
       "    }\n",
       "</style>\n",
       "<table border=\"1\" class=\"dataframe\">\n",
       "  <thead>\n",
       "    <tr style=\"text-align: right;\">\n",
       "      <th></th>\n",
       "      <th>Name</th>\n",
       "      <th>SMILES</th>\n",
       "      <th>MolarMass</th>\n",
       "      <th>CASNumber</th>\n",
       "      <th>ExperimentalSolubilityInWater</th>\n",
       "      <th>Temperature</th>\n",
       "      <th>ExperimentReference</th>\n",
       "      <th>Datagroup</th>\n",
       "      <th>SolvationEnergy</th>\n",
       "      <th>DipoleMoment</th>\n",
       "      <th>...</th>\n",
       "      <th>CalMR</th>\n",
       "      <th>TPSA</th>\n",
       "      <th>LabuteASA</th>\n",
       "      <th>BalabanJIndex</th>\n",
       "      <th>BertzCTIndex</th>\n",
       "      <th>Isomer</th>\n",
       "      <th>Aromatic</th>\n",
       "      <th>Cyclic</th>\n",
       "      <th>ChargeNeutral</th>\n",
       "      <th>MadeOfKeyElements</th>\n",
       "    </tr>\n",
       "  </thead>\n",
       "  <tbody>\n",
       "    <tr>\n",
       "      <th>0</th>\n",
       "      <td>1.3.5-trichloro-2.4.6-triazine</td>\n",
       "      <td>C1(=NC(=NC(=N1)Cl)Cl)Cl</td>\n",
       "      <td>184.4120</td>\n",
       "      <td>000108-77-0</td>\n",
       "      <td>49791.200000</td>\n",
       "      <td>298.15</td>\n",
       "      <td>Horrobin. S.; Journal of the Chemical Society...</td>\n",
       "      <td>G1</td>\n",
       "      <td>19.37192</td>\n",
       "      <td>0.011313</td>\n",
       "      <td>...</td>\n",
       "      <td>34.8570</td>\n",
       "      <td>38.67</td>\n",
       "      <td>66.000146</td>\n",
       "      <td>3.165670</td>\n",
       "      <td>175.065178</td>\n",
       "      <td>1</td>\n",
       "      <td>True</td>\n",
       "      <td>True</td>\n",
       "      <td>True</td>\n",
       "      <td>True</td>\n",
       "    </tr>\n",
       "    <tr>\n",
       "      <th>1</th>\n",
       "      <td>1.3.5-Trinitrobenzene</td>\n",
       "      <td>C1=C(C=C(C=C1[N+](=O)[O-])[N+](=O)[O-])[N+](=O...</td>\n",
       "      <td>213.1062</td>\n",
       "      <td>000099-35-4</td>\n",
       "      <td>277.712920</td>\n",
       "      <td>288.15</td>\n",
       "      <td>OChem</td>\n",
       "      <td>G4</td>\n",
       "      <td>49.41304</td>\n",
       "      <td>0.023810</td>\n",
       "      <td>...</td>\n",
       "      <td>46.4052</td>\n",
       "      <td>129.42</td>\n",
       "      <td>81.390330</td>\n",
       "      <td>3.387380</td>\n",
       "      <td>377.173349</td>\n",
       "      <td>1</td>\n",
       "      <td>True</td>\n",
       "      <td>True</td>\n",
       "      <td>True</td>\n",
       "      <td>True</td>\n",
       "    </tr>\n",
       "    <tr>\n",
       "      <th>2</th>\n",
       "      <td>2.4.6-TRINITROBENZOIC ACID</td>\n",
       "      <td>C1=C(C=C(C(=C1[N+](=O)[O-])C(=O)O)[N+](=O)[O-]...</td>\n",
       "      <td>257.1160</td>\n",
       "      <td>000129-66-8</td>\n",
       "      <td>20517.720200</td>\n",
       "      <td>297.15</td>\n",
       "      <td>OChem</td>\n",
       "      <td>G4</td>\n",
       "      <td>69.83096</td>\n",
       "      <td>2.089799</td>\n",
       "      <td>...</td>\n",
       "      <td>53.3645</td>\n",
       "      <td>166.72</td>\n",
       "      <td>96.711028</td>\n",
       "      <td>3.764179</td>\n",
       "      <td>545.048475</td>\n",
       "      <td>1</td>\n",
       "      <td>True</td>\n",
       "      <td>True</td>\n",
       "      <td>True</td>\n",
       "      <td>True</td>\n",
       "    </tr>\n",
       "    <tr>\n",
       "      <th>3</th>\n",
       "      <td>3.5-DINITROBENZOIC ACID</td>\n",
       "      <td>C1=C(C=C(C=C1[N+](=O)[O-])[N+](=O)[O-])C(=O)O</td>\n",
       "      <td>212.1200</td>\n",
       "      <td>000099-34-3</td>\n",
       "      <td>1350.000000</td>\n",
       "      <td>298.15</td>\n",
       "      <td>YALKOWSKY.SH &amp; DANNENFELSER.RM (1992)</td>\n",
       "      <td>G2</td>\n",
       "      <td>55.60536</td>\n",
       "      <td>4.897608</td>\n",
       "      <td>...</td>\n",
       "      <td>46.7101</td>\n",
       "      <td>123.58</td>\n",
       "      <td>82.058053</td>\n",
       "      <td>3.387380</td>\n",
       "      <td>375.786527</td>\n",
       "      <td>1</td>\n",
       "      <td>True</td>\n",
       "      <td>True</td>\n",
       "      <td>True</td>\n",
       "      <td>True</td>\n",
       "    </tr>\n",
       "    <tr>\n",
       "      <th>4</th>\n",
       "      <td>2.4.6-TRINITROCHLOROBENZENE</td>\n",
       "      <td>[O-][N+](=O)C1=CC(=C(Cl)C(=C1)[N+]([O-])=O)[N+...</td>\n",
       "      <td>247.5513</td>\n",
       "      <td>000088-88-0</td>\n",
       "      <td>530.475354</td>\n",
       "      <td>289.15</td>\n",
       "      <td>OChem</td>\n",
       "      <td>G4</td>\n",
       "      <td>48.45072</td>\n",
       "      <td>0.310057</td>\n",
       "      <td>...</td>\n",
       "      <td>51.4152</td>\n",
       "      <td>129.42</td>\n",
       "      <td>91.693597</td>\n",
       "      <td>3.572755</td>\n",
       "      <td>466.032395</td>\n",
       "      <td>1</td>\n",
       "      <td>True</td>\n",
       "      <td>True</td>\n",
       "      <td>True</td>\n",
       "      <td>True</td>\n",
       "    </tr>\n",
       "    <tr>\n",
       "      <th>...</th>\n",
       "      <td>...</td>\n",
       "      <td>...</td>\n",
       "      <td>...</td>\n",
       "      <td>...</td>\n",
       "      <td>...</td>\n",
       "      <td>...</td>\n",
       "      <td>...</td>\n",
       "      <td>...</td>\n",
       "      <td>...</td>\n",
       "      <td>...</td>\n",
       "      <td>...</td>\n",
       "      <td>...</td>\n",
       "      <td>...</td>\n",
       "      <td>...</td>\n",
       "      <td>...</td>\n",
       "      <td>...</td>\n",
       "      <td>...</td>\n",
       "      <td>...</td>\n",
       "      <td>...</td>\n",
       "      <td>...</td>\n",
       "      <td>...</td>\n",
       "    </tr>\n",
       "    <tr>\n",
       "      <th>4630</th>\n",
       "      <td>Metacil</td>\n",
       "      <td>CC1=CC(=O)N=C(N1)S</td>\n",
       "      <td>142.1752</td>\n",
       "      <td>000056-04-2</td>\n",
       "      <td>533.241385</td>\n",
       "      <td>298.15</td>\n",
       "      <td>OChem</td>\n",
       "      <td>G4</td>\n",
       "      <td>77.86424</td>\n",
       "      <td>10.247904</td>\n",
       "      <td>...</td>\n",
       "      <td>36.8467</td>\n",
       "      <td>45.75</td>\n",
       "      <td>57.552230</td>\n",
       "      <td>3.332335</td>\n",
       "      <td>244.655659</td>\n",
       "      <td>1</td>\n",
       "      <td>True</td>\n",
       "      <td>True</td>\n",
       "      <td>True</td>\n",
       "      <td>True</td>\n",
       "    </tr>\n",
       "    <tr>\n",
       "      <th>4631</th>\n",
       "      <td>MENAZON</td>\n",
       "      <td>COP(=S)(OC)SCC1=NC(=NC(=N1)N)N</td>\n",
       "      <td>281.2869</td>\n",
       "      <td>000078-57-9</td>\n",
       "      <td>239.965887</td>\n",
       "      <td>293.15</td>\n",
       "      <td>OChem</td>\n",
       "      <td>G4</td>\n",
       "      <td>83.93104</td>\n",
       "      <td>6.476270</td>\n",
       "      <td>...</td>\n",
       "      <td>68.2498</td>\n",
       "      <td>109.17</td>\n",
       "      <td>102.256998</td>\n",
       "      <td>2.708345</td>\n",
       "      <td>389.655410</td>\n",
       "      <td>1</td>\n",
       "      <td>True</td>\n",
       "      <td>True</td>\n",
       "      <td>True</td>\n",
       "      <td>True</td>\n",
       "    </tr>\n",
       "    <tr>\n",
       "      <th>4632</th>\n",
       "      <td>(2S)-2-acetamido-3-(3.5-dibromo-4-hydroxypheny...</td>\n",
       "      <td>CC(=O)N[C@@H](CC1=CC(=C(C(=C1)Br)O)Br)C(=O)O</td>\n",
       "      <td>381.0202</td>\n",
       "      <td>010346-50-6</td>\n",
       "      <td>2500.046006</td>\n",
       "      <td>298.15</td>\n",
       "      <td>Frontiers in Oncology 2020; 10.doi.10.3389/fon...</td>\n",
       "      <td>G4</td>\n",
       "      <td>88.61712</td>\n",
       "      <td>6.968232</td>\n",
       "      <td>...</td>\n",
       "      <td>72.4513</td>\n",
       "      <td>86.63</td>\n",
       "      <td>120.452583</td>\n",
       "      <td>2.938305</td>\n",
       "      <td>466.926711</td>\n",
       "      <td>2</td>\n",
       "      <td>True</td>\n",
       "      <td>True</td>\n",
       "      <td>True</td>\n",
       "      <td>True</td>\n",
       "    </tr>\n",
       "    <tr>\n",
       "      <th>4633</th>\n",
       "      <td>PIROXICAM</td>\n",
       "      <td>CN1/C(=C(\\NC2=CC=CC=N2)/O)/C(=O)C3=CC=CC=C3S1(...</td>\n",
       "      <td>331.3500</td>\n",
       "      <td>036322-90-4</td>\n",
       "      <td>23.000000</td>\n",
       "      <td>295.15</td>\n",
       "      <td>YALKOWSKY.SH &amp; DANNENFELSER.RM (1992)</td>\n",
       "      <td>G2</td>\n",
       "      <td>118.15616</td>\n",
       "      <td>15.789171</td>\n",
       "      <td>...</td>\n",
       "      <td>83.2358</td>\n",
       "      <td>99.60</td>\n",
       "      <td>132.498707</td>\n",
       "      <td>2.134568</td>\n",
       "      <td>907.329050</td>\n",
       "      <td>2</td>\n",
       "      <td>True</td>\n",
       "      <td>True</td>\n",
       "      <td>True</td>\n",
       "      <td>True</td>\n",
       "    </tr>\n",
       "    <tr>\n",
       "      <th>4634</th>\n",
       "      <td>2-[[4-(2-chloro-4-methylsulfonylphenyl)diazeny...</td>\n",
       "      <td>CC1=C(C=CC(=C1)N(CCO)CCO)N=NC2=C(C=C(C=C2)S(=O...</td>\n",
       "      <td>411.9025</td>\n",
       "      <td>068134-22-5</td>\n",
       "      <td>0.014200</td>\n",
       "      <td>297.15</td>\n",
       "      <td>https://echa.europa.eu/registration-dossier/-/...</td>\n",
       "      <td>G5</td>\n",
       "      <td>118.99296</td>\n",
       "      <td>5.988758</td>\n",
       "      <td>...</td>\n",
       "      <td>106.3014</td>\n",
       "      <td>102.56</td>\n",
       "      <td>163.401894</td>\n",
       "      <td>2.246720</td>\n",
       "      <td>926.199134</td>\n",
       "      <td>2</td>\n",
       "      <td>True</td>\n",
       "      <td>True</td>\n",
       "      <td>True</td>\n",
       "      <td>True</td>\n",
       "    </tr>\n",
       "  </tbody>\n",
       "</table>\n",
       "<p>4635 rows × 30 columns</p>\n",
       "</div>"
      ],
      "text/plain": [
       "                                                   Name  \\\n",
       "0                        1.3.5-trichloro-2.4.6-triazine   \n",
       "1                                 1.3.5-Trinitrobenzene   \n",
       "2                            2.4.6-TRINITROBENZOIC ACID   \n",
       "3                               3.5-DINITROBENZOIC ACID   \n",
       "4                           2.4.6-TRINITROCHLOROBENZENE   \n",
       "...                                                 ...   \n",
       "4630                                            Metacil   \n",
       "4631                                            MENAZON   \n",
       "4632  (2S)-2-acetamido-3-(3.5-dibromo-4-hydroxypheny...   \n",
       "4633                                          PIROXICAM   \n",
       "4634  2-[[4-(2-chloro-4-methylsulfonylphenyl)diazeny...   \n",
       "\n",
       "                                                 SMILES  MolarMass  \\\n",
       "0                               C1(=NC(=NC(=N1)Cl)Cl)Cl   184.4120   \n",
       "1     C1=C(C=C(C=C1[N+](=O)[O-])[N+](=O)[O-])[N+](=O...   213.1062   \n",
       "2     C1=C(C=C(C(=C1[N+](=O)[O-])C(=O)O)[N+](=O)[O-]...   257.1160   \n",
       "3         C1=C(C=C(C=C1[N+](=O)[O-])[N+](=O)[O-])C(=O)O   212.1200   \n",
       "4     [O-][N+](=O)C1=CC(=C(Cl)C(=C1)[N+]([O-])=O)[N+...   247.5513   \n",
       "...                                                 ...        ...   \n",
       "4630                                 CC1=CC(=O)N=C(N1)S   142.1752   \n",
       "4631                     COP(=S)(OC)SCC1=NC(=NC(=N1)N)N   281.2869   \n",
       "4632       CC(=O)N[C@@H](CC1=CC(=C(C(=C1)Br)O)Br)C(=O)O   381.0202   \n",
       "4633  CN1/C(=C(\\NC2=CC=CC=N2)/O)/C(=O)C3=CC=CC=C3S1(...   331.3500   \n",
       "4634  CC1=C(C=CC(=C1)N(CCO)CCO)N=NC2=C(C=C(C=C2)S(=O...   411.9025   \n",
       "\n",
       "        CASNumber  ExperimentalSolubilityInWater  Temperature  \\\n",
       "0     000108-77-0                   49791.200000       298.15   \n",
       "1     000099-35-4                     277.712920       288.15   \n",
       "2     000129-66-8                   20517.720200       297.15   \n",
       "3     000099-34-3                    1350.000000       298.15   \n",
       "4     000088-88-0                     530.475354       289.15   \n",
       "...           ...                            ...          ...   \n",
       "4630  000056-04-2                     533.241385       298.15   \n",
       "4631  000078-57-9                     239.965887       293.15   \n",
       "4632  010346-50-6                    2500.046006       298.15   \n",
       "4633  036322-90-4                      23.000000       295.15   \n",
       "4634  068134-22-5                       0.014200       297.15   \n",
       "\n",
       "                                    ExperimentReference Datagroup  \\\n",
       "0      Horrobin. S.; Journal of the Chemical Society...        G1   \n",
       "1                                                 OChem        G4   \n",
       "2                                                 OChem        G4   \n",
       "3                 YALKOWSKY.SH & DANNENFELSER.RM (1992)        G2   \n",
       "4                                                 OChem        G4   \n",
       "...                                                 ...       ...   \n",
       "4630                                              OChem        G4   \n",
       "4631                                              OChem        G4   \n",
       "4632  Frontiers in Oncology 2020; 10.doi.10.3389/fon...        G4   \n",
       "4633              YALKOWSKY.SH & DANNENFELSER.RM (1992)        G2   \n",
       "4634  https://echa.europa.eu/registration-dossier/-/...        G5   \n",
       "\n",
       "      SolvationEnergy  DipoleMoment  ...     CalMR    TPSA   LabuteASA  \\\n",
       "0            19.37192      0.011313  ...   34.8570   38.67   66.000146   \n",
       "1            49.41304      0.023810  ...   46.4052  129.42   81.390330   \n",
       "2            69.83096      2.089799  ...   53.3645  166.72   96.711028   \n",
       "3            55.60536      4.897608  ...   46.7101  123.58   82.058053   \n",
       "4            48.45072      0.310057  ...   51.4152  129.42   91.693597   \n",
       "...               ...           ...  ...       ...     ...         ...   \n",
       "4630         77.86424     10.247904  ...   36.8467   45.75   57.552230   \n",
       "4631         83.93104      6.476270  ...   68.2498  109.17  102.256998   \n",
       "4632         88.61712      6.968232  ...   72.4513   86.63  120.452583   \n",
       "4633        118.15616     15.789171  ...   83.2358   99.60  132.498707   \n",
       "4634        118.99296      5.988758  ...  106.3014  102.56  163.401894   \n",
       "\n",
       "      BalabanJIndex  BertzCTIndex  Isomer  Aromatic  Cyclic ChargeNeutral  \\\n",
       "0          3.165670    175.065178       1      True    True          True   \n",
       "1          3.387380    377.173349       1      True    True          True   \n",
       "2          3.764179    545.048475       1      True    True          True   \n",
       "3          3.387380    375.786527       1      True    True          True   \n",
       "4          3.572755    466.032395       1      True    True          True   \n",
       "...             ...           ...     ...       ...     ...           ...   \n",
       "4630       3.332335    244.655659       1      True    True          True   \n",
       "4631       2.708345    389.655410       1      True    True          True   \n",
       "4632       2.938305    466.926711       2      True    True          True   \n",
       "4633       2.134568    907.329050       2      True    True          True   \n",
       "4634       2.246720    926.199134       2      True    True          True   \n",
       "\n",
       "      MadeOfKeyElements  \n",
       "0                  True  \n",
       "1                  True  \n",
       "2                  True  \n",
       "3                  True  \n",
       "4                  True  \n",
       "...                 ...  \n",
       "4630               True  \n",
       "4631               True  \n",
       "4632               True  \n",
       "4633               True  \n",
       "4634               True  \n",
       "\n",
       "[4635 rows x 30 columns]"
      ]
     },
     "execution_count": 24,
     "metadata": {},
     "output_type": "execute_result"
    }
   ],
   "source": [
    "\n",
    "db_updated_\n"
   ]
  },
  {
   "cell_type": "code",
   "execution_count": 25,
   "id": "79dde628-082d-429f-b6a4-e445ff7cc772",
   "metadata": {},
   "outputs": [],
   "source": [
    "\n",
    "db_updated_.index.name = 'molindx'\n",
    "db_updated_.to_csv('../../datasets/processed/cleaned_data_v1.csv', index=True)\n"
   ]
  },
  {
   "cell_type": "code",
   "execution_count": null,
   "id": "379df3e8-dba4-4f59-ae77-04174d90a997",
   "metadata": {},
   "outputs": [],
   "source": []
  }
 ],
 "metadata": {
  "kernelspec": {
   "display_name": "Python 3 (ipykernel)",
   "language": "python",
   "name": "python3"
  },
  "language_info": {
   "codemirror_mode": {
    "name": "ipython",
    "version": 3
   },
   "file_extension": ".py",
   "mimetype": "text/x-python",
   "name": "python",
   "nbconvert_exporter": "python",
   "pygments_lexer": "ipython3",
   "version": "3.11.5"
  }
 },
 "nbformat": 4,
 "nbformat_minor": 5
}
